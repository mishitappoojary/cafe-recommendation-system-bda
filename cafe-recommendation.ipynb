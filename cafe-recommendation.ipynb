{
 "cells": [
  {
   "cell_type": "code",
   "execution_count": 1,
   "metadata": {},
   "outputs": [],
   "source": [
    "import pandas as pd\n",
    "from pymongo import MongoClient\n",
    "from sklearn.feature_extraction.text import TfidfVectorizer\n",
    "from sklearn.metrics.pairwise import linear_kernel\n",
    "from sklearn.impute import KNNImputer\n",
    "import numpy as np\n",
    "import pickle"
   ]
  },
  {
   "cell_type": "code",
   "execution_count": 2,
   "metadata": {},
   "outputs": [],
   "source": [
    "client = MongoClient(\"mongodb://localhost:27017/\")\n",
    "db = client['cafe_db']\n",
    "collection = db['cafe_data']"
   ]
  },
  {
   "cell_type": "code",
   "execution_count": 3,
   "metadata": {},
   "outputs": [],
   "source": [
    "data = list(collection.find())\n",
    "df = pd.DataFrame(data)"
   ]
  },
  {
   "cell_type": "code",
   "execution_count": 4,
   "metadata": {},
   "outputs": [],
   "source": [
    "df['reviews'] = df['reviews'].apply(lambda x: ' '.join([review['description'] for review in x]) if isinstance(x, list) else '')"
   ]
  },
  {
   "cell_type": "code",
   "execution_count": 5,
   "metadata": {},
   "outputs": [],
   "source": [
    "imputer = KNNImputer(n_neighbors=3)  \n",
    "numeric_cols = ['price_for_two', 'ac', 'dine_in', 'serves_nonveg', 'live_music']\n",
    "df[numeric_cols] = imputer.fit_transform(df[numeric_cols])"
   ]
  },
  {
   "cell_type": "markdown",
   "metadata": {},
   "source": [
    "Content-Based Filtering"
   ]
  },
  {
   "cell_type": "code",
   "execution_count": 6,
   "metadata": {},
   "outputs": [],
   "source": [
    "tfidf = TfidfVectorizer()\n",
    "tfidf_matrix = tfidf.fit_transform(df['reviews'])\n",
    "cosine_sim = linear_kernel(tfidf_matrix, tfidf_matrix)"
   ]
  },
  {
   "cell_type": "code",
   "execution_count": 7,
   "metadata": {},
   "outputs": [],
   "source": [
    "def get_content_recommendations(name, cosine_sim=cosine_sim):\n",
    "    if name not in df['name'].values:\n",
    "        return None  # Café not in the list\n",
    "    idx = df.index[df['name'] == name].tolist()[0]\n",
    "    sim_scores = list(enumerate(cosine_sim[idx]))\n",
    "    sim_scores = sorted(sim_scores, key=lambda x: x[1], reverse=True)\n",
    "    cafe_indices = [i[0] for i in sim_scores[1:]] \n",
    "    return df['name'].iloc[cafe_indices].tolist()"
   ]
  },
  {
   "cell_type": "markdown",
   "metadata": {},
   "source": [
    "Hybrid Recommendation Logic"
   ]
  },
  {
   "cell_type": "code",
   "execution_count": 8,
   "metadata": {},
   "outputs": [],
   "source": [
    "def recommend_cafe(cafe_name, budget=None, ac=None, dine_in=None, veg=None, live_music=None, locality=None):\n",
    "    # Step 3.1: Get content-based recommendations\n",
    "    content_recommendations = get_content_recommendations(cafe_name)\n",
    "    if content_recommendations is None:\n",
    "        return f\"{cafe_name} not found in the list.\"\n",
    "\n",
    "    # Step 3.2: Get relevant cafés based on locality and cuisine\n",
    "    cafe_info = df[df['name'] == cafe_name].iloc[0]\n",
    "    similar_cafes = df[\n",
    "        (df['locality'] == cafe_info['locality']) | \n",
    "        (df['cuisines'] == cafe_info['cuisines']) |\n",
    "        (df['price_for_two'] <= (budget if budget is not None else float('inf')))\n",
    "    ]\n",
    "\n",
    "    # Combine recommendations and keep unique entries\n",
    "    recommendations = set(content_recommendations) | set(similar_cafes['name'])\n",
    "\n",
    "    # Prepare results with reasons\n",
    "    results = []\n",
    "    for cafe in recommendations:\n",
    "        cafe_info = df[df['name'] == cafe].iloc[0]\n",
    "        reasons = []\n",
    "\n",
    "        # Check user preferences\n",
    "        if budget is not None and cafe_info['price_for_two'] > budget:\n",
    "            continue\n",
    "        if ac is not None and cafe_info['ac'] != ac:\n",
    "            continue\n",
    "        if dine_in is not None and cafe_info['dine_in'] != dine_in:\n",
    "            continue\n",
    "        if veg is not None and cafe_info['serves_nonveg'] != (0 if veg else 1):\n",
    "            continue\n",
    "        if live_music is not None and cafe_info['live_music'] != live_music:\n",
    "            continue\n",
    "        if locality is not None and cafe_info['locality'] != locality:\n",
    "            continue\n",
    "\n",
    "        # Construct reason string\n",
    "        reason_parts = []\n",
    "        if budget is not None:\n",
    "            reason_parts.append(f\"(budget: {cafe_info['price_for_two']})\")\n",
    "        if ac is not None:\n",
    "            reason_parts.append(f\"(AC: {'Yes' if cafe_info['ac'] == 1 else 'No'})\")\n",
    "        if dine_in is not None:\n",
    "            reason_parts.append(f\"(Dine-in: {'Yes' if cafe_info['dine_in'] == 1 else 'No'})\")\n",
    "        if veg is not None:\n",
    "            reason_parts.append(f\"(Veg: {'Yes' if veg else 'No'})\")\n",
    "        if live_music is not None:\n",
    "            reason_parts.append(f\"(Live music: {'Yes' if cafe_info['live_music'] == 1 else 'No'})\")\n",
    "        if locality is not None:\n",
    "            reason_parts.append(f\"(Locality: {cafe_info['locality']})\")\n",
    "\n",
    "        reason_str = ' '.join(reason_parts)\n",
    "        results.append(f\"{cafe_info['name']} {reason_str}\")\n",
    "\n",
    "    return results if results else [\"No cafes match your criteria.\"]"
   ]
  },
  {
   "cell_type": "code",
   "execution_count": 12,
   "metadata": {},
   "outputs": [
    {
     "name": "stdout",
     "output_type": "stream",
     "text": [
      "Recommended Cafes: ['Poetry By Love And Cheesecake (Locality: Juhu)', 'Kitchen Garden by Suzette (Locality: Juhu)']\n"
     ]
    }
   ],
   "source": [
    "cafe_name = \"Italian Barista Academy Coffees By Sahil Thakkar\"\n",
    "recommended_cafes = recommend_cafe(cafe_name, locality='Juhu')\n",
    "print(\"Recommended Cafes:\", recommended_cafes)"
   ]
  },
  {
   "cell_type": "code",
   "execution_count": 10,
   "metadata": {},
   "outputs": [],
   "source": [
    "df.to_pickle('cafes.pkl')"
   ]
  }
 ],
 "metadata": {
  "language_info": {
   "name": "python"
  }
 },
 "nbformat": 4,
 "nbformat_minor": 2
}
